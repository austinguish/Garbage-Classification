{
 "cells": [
  {
   "cell_type": "code",
   "execution_count": 1,
   "metadata": {},
   "outputs": [],
   "source": [
    "import torchvision.models as models\n",
    "import torch.optim as optim\n",
    "import torch\n",
    "import torch.nn as nn\n",
    "from Train import trainmodel\n",
    "from efficientnet_pytorch import EfficientNet\n",
    "from imageloader import *\n",
    "from sklearn.metrics import confusion_matrix"
   ]
  },
  {
   "cell_type": "code",
   "execution_count": 2,
   "metadata": {},
   "outputs": [],
   "source": [
    "%matplotlib inline\n",
    "from sklearn.metrics import confusion_matrix\n",
    "import matplotlib.pyplot as plt\n",
    "import numpy as np\n",
    "\n",
    "def plot_confusion_matrix(cm, savename, title='Confusion Matrix'):\n",
    "    classes =['cardboard','glass', 'metal','paper','plastic','trash']\n",
    "    plt.figure(figsize=(12, 8), dpi=100)\n",
    "    np.set_printoptions(precision=2)\n",
    "\n",
    "    # 在混淆矩阵中每格的概率值\n",
    "    ind_array = np.arange(len(classes))\n",
    "    x, y = np.meshgrid(ind_array, ind_array)\n",
    "    for x_val, y_val in zip(x.flatten(), y.flatten()):\n",
    "        c = cm[y_val][x_val]\n",
    "        if c > 0.001:\n",
    "            plt.text(x_val, y_val, \"%0.2f\" % (c,), color='red', fontsize=15, va='center', ha='center')\n",
    "    \n",
    "    plt.imshow(cm, interpolation='nearest', cmap=plt.cm.binary)\n",
    "    plt.title(title)\n",
    "    plt.colorbar()\n",
    "    xlocations = np.array(range(len(classes)))\n",
    "    plt.xticks(xlocations, classes, rotation=90)\n",
    "    plt.yticks(xlocations, classes)\n",
    "    plt.ylabel('Actual label')\n",
    "    plt.xlabel('Predict label')\n",
    "    \n",
    "    # offset the tick\n",
    "    tick_marks = np.array(range(len(classes))) + 0.5\n",
    "    plt.gca().set_xticks(tick_marks, minor=True)\n",
    "    plt.gca().set_yticks(tick_marks, minor=True)\n",
    "    plt.gca().xaxis.set_ticks_position('none')\n",
    "    plt.gca().yaxis.set_ticks_position('none')\n",
    "    plt.grid(True, which='minor', linestyle='-')\n",
    "    plt.gcf().subplots_adjust(bottom=0.15)\n",
    "    \n",
    "    # show confusion matrix\n",
    "    plt.savefig(savename, format='png')\n",
    "    plt.show()"
   ]
  },
  {
   "cell_type": "code",
   "execution_count": 3,
   "metadata": {},
   "outputs": [
    {
     "data": {
      "text/plain": [
       "'vgg16_bn = models.vgg16_bn(pretrained=False)\\nvgg16_bn.classifier=nn.Sequential(nn.Linear(25088,4096),nn.ReLU(inplace = True),                               nn.Dropout(0.5),nn.Linear(4096,4096),                               nn.ReLU(inplace = True),nn.Dropout(0.5),nn.Linear(4096,6))\\nvgg19_bn = models.vgg19_bn(pretrained = False)\\nvgg19_bn.classifier=nn.Sequential(nn.Linear(25088,4096),nn.ReLU(inplace = True),                               nn.Dropout(0.5),nn.Linear(4096,4096),                               nn.ReLU(inplace = True),nn.Dropout(0.5),nn.Linear(4096,6))\\nmobilenet_v2 = models.mobilenet_v2(pretrained=False)\\nmobilenet_v2.classifier = nn.Sequential(nn.Dropout(0.2),nn.Linear(1280,6))\\ndensenet161 = models.densenet161(pretrained = False)\\ndensenet161.classifier=nn.Linear(2208,6)\\ndensenet121 = models.densenet161(pretrained = False)\\ndensenet121.classifier=nn.Linear(1024,6)\\nresnet18 = models.resnet18(pretrained = False)\\nresnet18.fc=nn.Linear(512,6)\\nresnet34 = models.resnet18(pretrained = False)\\nresnet34.fc=nn.Linear(512,6)\\nresnet50 = models.resnet18(pretrained = False)\\nresnet50.fc=nn.Linear(2048,6)\\nresnet101 = models.resnet18(pretrained = False)\\nresnet101.fc=nn.Linear(2048,6)'"
      ]
     },
     "execution_count": 3,
     "metadata": {},
     "output_type": "execute_result"
    }
   ],
   "source": [
    "test_folder = \"./garbage_dataset/test_set\"\n",
    "batch_size = 6\n",
    "device = 9\n",
    "model_name_list = [\"EfficientNet\",\"alexnet\",\"vgg16_bn\",\"vgg19_bn\",\"mobilenet_v2\",\\\n",
    "                   \"densenet161\",\"densenet121\",\"resnet18\",\"resnet34\",\\\n",
    "                   \"resnet50\"\"resnet101\"]\n",
    "'''efficient_net = EfficientNet.from_pretrained('efficientnet-b7',num_classes=6)'''\n",
    "alexnet = models.alexnet(pretrained=False)\n",
    "alexnet.classifier=nn.Sequential(nn.Linear(9216,4096),\n",
    "                                 nn.ReLU(),\n",
    "                                 nn.Dropout(0.2),\n",
    "                                 nn.Linear(4096,4096),\n",
    "                                 nn.ReLU(),\n",
    "                                 nn.Linear(4096,6))\n",
    "'''vgg16_bn = models.vgg16_bn(pretrained=False)\n",
    "vgg16_bn.classifier=nn.Sequential(nn.Linear(25088,4096),nn.ReLU(inplace = True),\\\n",
    "                               nn.Dropout(0.5),nn.Linear(4096,4096),\\\n",
    "                               nn.ReLU(inplace = True),nn.Dropout(0.5),nn.Linear(4096,6))\n",
    "vgg19_bn = models.vgg19_bn(pretrained = False)\n",
    "vgg19_bn.classifier=nn.Sequential(nn.Linear(25088,4096),nn.ReLU(inplace = True),\\\n",
    "                               nn.Dropout(0.5),nn.Linear(4096,4096),\\\n",
    "                               nn.ReLU(inplace = True),nn.Dropout(0.5),nn.Linear(4096,6))\n",
    "mobilenet_v2 = models.mobilenet_v2(pretrained=False)\n",
    "mobilenet_v2.classifier = nn.Sequential(nn.Dropout(0.2),nn.Linear(1280,6))\n",
    "densenet161 = models.densenet161(pretrained = False)\n",
    "densenet161.classifier=nn.Linear(2208,6)\n",
    "densenet121 = models.densenet161(pretrained = False)\n",
    "densenet121.classifier=nn.Linear(1024,6)\n",
    "resnet18 = models.resnet18(pretrained = False)\n",
    "resnet18.fc=nn.Linear(512,6)\n",
    "resnet34 = models.resnet18(pretrained = False)\n",
    "resnet34.fc=nn.Linear(512,6)\n",
    "resnet50 = models.resnet18(pretrained = False)\n",
    "resnet50.fc=nn.Linear(2048,6)\n",
    "resnet101 = models.resnet18(pretrained = False)\n",
    "resnet101.fc=nn.Linear(2048,6)'''"
   ]
  },
  {
   "cell_type": "code",
   "execution_count": 5,
   "metadata": {
    "scrolled": false
   },
   "outputs": [
    {
     "ename": "RuntimeError",
     "evalue": "Error(s) in loading state_dict for AlexNet:\n\tMissing key(s) in state_dict: \"classifier.5.weight\", \"classifier.5.bias\". \n\tUnexpected key(s) in state_dict: \"classifier.6.weight\", \"classifier.6.bias\". \n\tsize mismatch for classifier.3.weight: copying a param with shape torch.Size([256, 4096]) from checkpoint, the shape in current model is torch.Size([4096, 4096]).\n\tsize mismatch for classifier.3.bias: copying a param with shape torch.Size([256]) from checkpoint, the shape in current model is torch.Size([4096]).",
     "output_type": "error",
     "traceback": [
      "\u001b[0;31m---------------------------------------------------------------------------\u001b[0m",
      "\u001b[0;31mRuntimeError\u001b[0m                              Traceback (most recent call last)",
      "\u001b[0;32m<ipython-input-5-aa1ee14b0096>\u001b[0m in \u001b[0;36m<module>\u001b[0;34m\u001b[0m\n\u001b[1;32m      1\u001b[0m \u001b[0mdict\u001b[0m \u001b[0;34m=\u001b[0m \u001b[0mtorch\u001b[0m\u001b[0;34m.\u001b[0m\u001b[0mload\u001b[0m\u001b[0;34m(\u001b[0m\u001b[0;34m\"./param/alex_transfer_8_ADAM19\"\u001b[0m\u001b[0;34m,\u001b[0m\u001b[0mmap_location\u001b[0m\u001b[0;34m=\u001b[0m\u001b[0;34m\"cuda:8\"\u001b[0m\u001b[0;34m)\u001b[0m\u001b[0;34m\u001b[0m\u001b[0;34m\u001b[0m\u001b[0m\n\u001b[1;32m      2\u001b[0m \u001b[0mmodel\u001b[0m \u001b[0;34m=\u001b[0m \u001b[0malexnet\u001b[0m\u001b[0;34m\u001b[0m\u001b[0;34m\u001b[0m\u001b[0m\n\u001b[0;32m----> 3\u001b[0;31m \u001b[0mmodel\u001b[0m\u001b[0;34m.\u001b[0m\u001b[0mload_state_dict\u001b[0m\u001b[0;34m(\u001b[0m\u001b[0mdict\u001b[0m\u001b[0;34m)\u001b[0m\u001b[0;34m\u001b[0m\u001b[0;34m\u001b[0m\u001b[0m\n\u001b[0m\u001b[1;32m      4\u001b[0m \u001b[0mmodel\u001b[0m\u001b[0;34m.\u001b[0m\u001b[0meval\u001b[0m\u001b[0;34m(\u001b[0m\u001b[0;34m)\u001b[0m\u001b[0;34m\u001b[0m\u001b[0;34m\u001b[0m\u001b[0m\n\u001b[1;32m      5\u001b[0m \u001b[0mmodel\u001b[0m\u001b[0;34m.\u001b[0m\u001b[0mto\u001b[0m\u001b[0;34m(\u001b[0m\u001b[0;34m\"cuda:9\"\u001b[0m\u001b[0;34m)\u001b[0m\u001b[0;34m\u001b[0m\u001b[0;34m\u001b[0m\u001b[0m\n",
      "\u001b[0;32m~/.local/lib/python3.6/site-packages/torch/nn/modules/module.py\u001b[0m in \u001b[0;36mload_state_dict\u001b[0;34m(self, state_dict, strict)\u001b[0m\n\u001b[1;32m    845\u001b[0m         \u001b[0;32mif\u001b[0m \u001b[0mlen\u001b[0m\u001b[0;34m(\u001b[0m\u001b[0merror_msgs\u001b[0m\u001b[0;34m)\u001b[0m \u001b[0;34m>\u001b[0m \u001b[0;36m0\u001b[0m\u001b[0;34m:\u001b[0m\u001b[0;34m\u001b[0m\u001b[0;34m\u001b[0m\u001b[0m\n\u001b[1;32m    846\u001b[0m             raise RuntimeError('Error(s) in loading state_dict for {}:\\n\\t{}'.format(\n\u001b[0;32m--> 847\u001b[0;31m                                self.__class__.__name__, \"\\n\\t\".join(error_msgs)))\n\u001b[0m\u001b[1;32m    848\u001b[0m         \u001b[0;32mreturn\u001b[0m \u001b[0m_IncompatibleKeys\u001b[0m\u001b[0;34m(\u001b[0m\u001b[0mmissing_keys\u001b[0m\u001b[0;34m,\u001b[0m \u001b[0munexpected_keys\u001b[0m\u001b[0;34m)\u001b[0m\u001b[0;34m\u001b[0m\u001b[0;34m\u001b[0m\u001b[0m\n\u001b[1;32m    849\u001b[0m \u001b[0;34m\u001b[0m\u001b[0m\n",
      "\u001b[0;31mRuntimeError\u001b[0m: Error(s) in loading state_dict for AlexNet:\n\tMissing key(s) in state_dict: \"classifier.5.weight\", \"classifier.5.bias\". \n\tUnexpected key(s) in state_dict: \"classifier.6.weight\", \"classifier.6.bias\". \n\tsize mismatch for classifier.3.weight: copying a param with shape torch.Size([256, 4096]) from checkpoint, the shape in current model is torch.Size([4096, 4096]).\n\tsize mismatch for classifier.3.bias: copying a param with shape torch.Size([256]) from checkpoint, the shape in current model is torch.Size([4096])."
     ]
    }
   ],
   "source": [
    "dict = torch.load(\"./param/alex_transfer_8_ADAM19\",map_location=\"cuda:8\")\n",
    "model = alexnet\n",
    "model.load_state_dict(dict)\n",
    "model.eval()\n",
    "model.to(\"cuda:9\")\n",
    "lossfunc = torch.nn.CrossEntropyLoss().cuda(device)\n",
    "testset,size3=image_data_loader(test_folder,batch_size)\n",
    "y_pred=[]\n",
    "y_true=[]\n",
    "test_loss = 0.0\n",
    "for i, data in enumerate(testset):\n",
    "    (inputs, labels) = data\n",
    "    inputs = inputs.cuda(device)\n",
    "    labels = labels.cuda(device)\n",
    "    outputs = model(inputs)\n",
    "    loss = lossfunc(outputs, labels)\n",
    "    test_loss += loss.item() * inputs.size(0)\n",
    "    ret, predictions = torch.max(outputs.data, 1)\n",
    "    predictions=predictions.cpu()\n",
    "    labels = labels.cpu()\n",
    "    y_pred.extend(list(np.array(predictions)))\n",
    "    y_true.extend(list(np.array(labels)))\n",
    "cm = confusion_matrix(y_true,y_pred)\n",
    "crcount = 0\n",
    "for i in range(len(y_pred)):\n",
    "    if (y_pred[i]==y_true[i]):\n",
    "        crcount+=1\n",
    "print(crcount/len(y_pred))\n",
    "        \n",
    "FP = cm.sum(axis=0) - np.diag(cm)  \n",
    "FN = cm.sum(axis=1) - np.diag(cm)\n",
    "TP = np.diag(cm)\n",
    "TN = cm.sum() - (FP + FN + TP)\n",
    "precision = TP / (TP+FP)  # 查准率\n",
    "recall = TP / (TP+FN)  # 查全率\n",
    "accuracy=(TP+TN)/(TP+TN+FP+FN)\n",
    "f1=(2*precision*recall)/(precision+recall)\n",
    "print(accuracy)\n",
    "print(recall)\n",
    "print(precision)\n",
    "print(f1)\n",
    "plot_confusion_matrix(cm, './cm/alexnet.png', title='transfer alexnet confusion matrix')\n",
    "\n"
   ]
  },
  {
   "cell_type": "code",
   "execution_count": null,
   "metadata": {},
   "outputs": [],
   "source": []
  },
  {
   "cell_type": "code",
   "execution_count": null,
   "metadata": {},
   "outputs": [],
   "source": []
  }
 ],
 "metadata": {
  "kernelspec": {
   "display_name": "Python 3",
   "language": "python",
   "name": "python3"
  },
  "language_info": {
   "codemirror_mode": {
    "name": "ipython",
    "version": 3
   },
   "file_extension": ".py",
   "mimetype": "text/x-python",
   "name": "python",
   "nbconvert_exporter": "python",
   "pygments_lexer": "ipython3",
   "version": "3.6.9"
  }
 },
 "nbformat": 4,
 "nbformat_minor": 4
}
