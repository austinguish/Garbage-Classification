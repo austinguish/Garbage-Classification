{
 "cells": [
  {
   "cell_type": "code",
   "execution_count": 1,
   "metadata": {},
   "outputs": [
    {
     "ename": "AttributeError",
     "evalue": "module 'torch.optim' has no attribute 'rmsprop'",
     "output_type": "error",
     "traceback": [
      "\u001b[0;31m---------------------------------------------------------------------------\u001b[0m",
      "\u001b[0;31mAttributeError\u001b[0m                            Traceback (most recent call last)",
      "\u001b[0;32m<ipython-input-1-f4518a76028f>\u001b[0m in \u001b[0;36m<module>\u001b[0;34m\u001b[0m\n\u001b[1;32m     19\u001b[0m \u001b[0;32mfor\u001b[0m \u001b[0mmodels\u001b[0m \u001b[0;32min\u001b[0m \u001b[0mmodel_list\u001b[0m\u001b[0;34m:\u001b[0m\u001b[0;34m\u001b[0m\u001b[0;34m\u001b[0m\u001b[0m\n\u001b[1;32m     20\u001b[0m     \u001b[0mfile_name\u001b[0m \u001b[0;34m=\u001b[0m \u001b[0mmodel_name_list\u001b[0m\u001b[0;34m[\u001b[0m\u001b[0mi\u001b[0m\u001b[0;34m]\u001b[0m\u001b[0;34m+\u001b[0m\u001b[0mstr\u001b[0m\u001b[0;34m(\u001b[0m\u001b[0mbatch_size\u001b[0m\u001b[0;34m)\u001b[0m\u001b[0;34m+\u001b[0m\u001b[0;34m\"rmsprop\"\u001b[0m\u001b[0;34m\u001b[0m\u001b[0;34m\u001b[0m\u001b[0m\n\u001b[0;32m---> 21\u001b[0;31m     \u001b[0moptimizer\u001b[0m \u001b[0;34m=\u001b[0m \u001b[0moptim\u001b[0m\u001b[0;34m.\u001b[0m\u001b[0mrmsprop\u001b[0m\u001b[0;34m(\u001b[0m\u001b[0mmodels\u001b[0m\u001b[0;34m.\u001b[0m\u001b[0mparameters\u001b[0m\u001b[0;34m(\u001b[0m\u001b[0;34m)\u001b[0m\u001b[0;34m,\u001b[0m\u001b[0mlr\u001b[0m\u001b[0;34m=\u001b[0m\u001b[0;36m0.0001\u001b[0m\u001b[0;34m)\u001b[0m\u001b[0;34m\u001b[0m\u001b[0;34m\u001b[0m\u001b[0m\n\u001b[0m\u001b[1;32m     22\u001b[0m     trainmodel(model_name=models,loss = lossfunc,batchsize=batch_size,opti=optimizer,\\\n\u001b[1;32m     23\u001b[0m                 epoch_num=50,device_num=device,filename=file_name)\n",
      "\u001b[0;31mAttributeError\u001b[0m: module 'torch.optim' has no attribute 'rmsprop'"
     ]
    }
   ],
   "source": [
    "import torchvision.models as models\n",
    "import torch.optim as optim\n",
    "from Train import trainmodel\n",
    "from alexnet import *\n",
    "from vgg import *\n",
    "from densenet import *\n",
    "from mobilenet import *\n",
    "from ResNet import *\n",
    "batch_size = 36\n",
    "device = 6\n",
    "model_name_list = [\"alexnet\",\"vgg11_bn\",\"vgg19_bn\",\"mobilenet_v2\",\\\n",
    "                   \"densenet161\",\"densenet201\",\"resnet18\",\"resnet101\"]\n",
    "model_list = [alexnet(pretrained=False),vgg19_bn(pretrained=False),\\\n",
    "              vgg11_bn(pretrained=False),mobilenet_v2(pretrained=False),\\\n",
    "              densenet161(pretrained=False),densenet201(pretrained=False),\\\n",
    "              resnet18(3,6),resnet101(3,6)]\n",
    "lossfunc = torch.nn.CrossEntropyLoss().cuda(device)\n",
    "i = 0\n",
    "for models in model_list:\n",
    "    file_name = model_name_list[i]+str(batch_size)+\"rmsprop\"\n",
    "    optimizer = optim.RMSprop(models.parameters(),lr=0.0001)\n",
    "    trainmodel(model_name=models,loss = lossfunc,batchsize=batch_size,opti=optimizer,\\\n",
    "                epoch_num=50,device_num=device,filename=file_name)\n",
    "    i+=1\n",
    "\n",
    "\n",
    "\n"
   ]
  },
  {
   "cell_type": "code",
   "execution_count": null,
   "metadata": {},
   "outputs": [],
   "source": []
  },
  {
   "cell_type": "code",
   "execution_count": null,
   "metadata": {},
   "outputs": [],
   "source": []
  }
 ],
 "metadata": {
  "kernelspec": {
   "display_name": "Python 3",
   "language": "python",
   "name": "python3"
  },
  "language_info": {
   "codemirror_mode": {
    "name": "ipython",
    "version": 3
   },
   "file_extension": ".py",
   "mimetype": "text/x-python",
   "name": "python",
   "nbconvert_exporter": "python",
   "pygments_lexer": "ipython3",
   "version": "3.6.9"
  }
 },
 "nbformat": 4,
 "nbformat_minor": 4
}
