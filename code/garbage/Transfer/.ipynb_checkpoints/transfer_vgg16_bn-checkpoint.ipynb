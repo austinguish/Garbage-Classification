{
 "cells": [
  {
   "cell_type": "code",
   "execution_count": null,
   "metadata": {},
   "outputs": [],
   "source": [
    "import torchvision.models as models\n",
    "import torch.optim as optim\n",
    "import time\n",
    "import torch\n",
    "import torch.nn as nn\n",
    "from Train import trainmodel\n",
    "model = models.vgg19_bn(pretrained=True)\n",
    "time1 = time.time()\n",
    "print(model)\n"
   ]
  },
  {
   "cell_type": "code",
   "execution_count": null,
   "metadata": {},
   "outputs": [],
   "source": [
    "for param in model.parameters():\n",
    "    param.requires_grad = False\n",
    "    \n",
    "model.classifier = nn.Sequential(nn.Linear(25088,4096),\n",
    "                                 nn.ReLU(),\n",
    "                                 nn.Dropout(0.6),\n",
    "                                 nn.Linear(4096,4096),\n",
    "                                 nn.ReLU(),\n",
    "                                 nn.Dropout(0.6),\n",
    "                                 nn.Linear(4096,6))\n",
    "model"
   ]
  },
  {
   "cell_type": "code",
   "execution_count": null,
   "metadata": {},
   "outputs": [],
   "source": [
    "device = 8\n",
    "model_name_list = [\"transfer_vgg19_bn\"]\n",
    "lossfunc = torch.nn.CrossEntropyLoss().cuda(device)\n",
    "file_name = model_name_list[0]+'_'+\"ADAM\"\n",
    "print(file_name)\n",
    "optimizer = optim.Adam(model.parameters(),lr=0.001)\n",
    "trainmodel(model_name=model,loss = lossfunc,batchsize=36,opti=optimizer,\\\n",
    "           epoch_num=50,device_num=device,filename=file_name)\n",
    "time2 = time.time()\n",
    "print(time2-time1)"
   ]
  },
  {
   "cell_type": "code",
   "execution_count": null,
   "metadata": {},
   "outputs": [],
   "source": []
  }
 ],
 "metadata": {
  "kernelspec": {
   "display_name": "Python 3",
   "language": "python",
   "name": "python3"
  },
  "language_info": {
   "codemirror_mode": {
    "name": "ipython",
    "version": 3
   },
   "file_extension": ".py",
   "mimetype": "text/x-python",
   "name": "python",
   "nbconvert_exporter": "python",
   "pygments_lexer": "ipython3",
   "version": "3.6.9"
  }
 },
 "nbformat": 4,
 "nbformat_minor": 4
}
